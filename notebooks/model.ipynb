{
 "cells": [
  {
   "cell_type": "code",
   "execution_count": 1,
   "metadata": {},
   "outputs": [],
   "source": [
    "import torch\n",
    "import torch.nn.functional as F\n",
    "import matplotlib.pyplot as plt\n",
    "%matplotlib inline"
   ]
  },
  {
   "cell_type": "code",
   "execution_count": 2,
   "metadata": {},
   "outputs": [],
   "source": [
    "words = open('names.txt').read().splitlines()"
   ]
  },
  {
   "cell_type": "code",
   "execution_count": 3,
   "metadata": {},
   "outputs": [
    {
     "data": {
      "text/plain": [
       "32658"
      ]
     },
     "execution_count": 3,
     "metadata": {},
     "output_type": "execute_result"
    }
   ],
   "source": [
    "len(words)"
   ]
  },
  {
   "cell_type": "code",
   "execution_count": 4,
   "metadata": {},
   "outputs": [
    {
     "name": "stdout",
     "output_type": "stream",
     "text": [
      "{1: 'a', 2: 'b', 3: 'c', 4: 'd', 5: 'e', 6: 'f', 7: 'g', 8: 'h', 9: 'i', 10: 'j', 11: 'k', 12: 'l', 13: 'm', 14: 'n', 15: 'o', 16: 'p', 17: 'q', 18: 'r', 19: 's', 20: 't', 21: 'u', 22: 'v', 23: 'w', 24: 'x', 25: 'y', 26: 'z', 27: 'ó', 28: 'ę', 29: 'ł', 30: 'ń', 31: 'ś', 32: 'ż', 0: '.'}\n",
      "33\n"
     ]
    }
   ],
   "source": [
    "# build vocab of characters and mappings to / from integers\n",
    "chars = sorted(list(set(''.join(words))))\n",
    "stoi = {s:i+1 for i, s in enumerate(chars)}\n",
    "stoi['.'] = 0\n",
    "itos = {i:s for s, i in stoi.items()}\n",
    "vocab_size = len(stoi)\n",
    "print(itos)\n",
    "print(vocab_size)"
   ]
  },
  {
   "cell_type": "code",
   "execution_count": 5,
   "metadata": {},
   "outputs": [],
   "source": [
    "import random\n",
    "# build the dataset\n",
    "block_size = 3\n",
    "\n",
    "def build_dataset(words):\n",
    "    X, Y = [], []\n",
    "\n",
    "    for w in words:\n",
    "        context = [0] * block_size\n",
    "        for ch in w + '.':\n",
    "            ix = stoi[ch]\n",
    "            X.append(context)\n",
    "            Y.append(ix)\n",
    "            context = context[1:] + [ix]\n",
    "    X = torch.tensor(X)\n",
    "    Y = torch.tensor(Y)\n",
    "    return X, Y\n",
    "\n",
    "random.seed(42)\n",
    "random.shuffle(words)\n",
    "n1 = int(0.8 * len(words))  \n",
    "n2 = int(0.9 * len(words))\n",
    "Xtrain, Ytrain = build_dataset(words[:n1])\n",
    "Xdev, Ydev = build_dataset(words[n1:n2])\n",
    "Xtest, Ytest = build_dataset(words[n2:])"
   ]
  },
  {
   "cell_type": "code",
   "execution_count": null,
   "metadata": {},
   "outputs": [],
   "source": []
  },
  {
   "cell_type": "code",
   "execution_count": 31,
   "metadata": {},
   "outputs": [
    {
     "name": "stdout",
     "output_type": "stream",
     "text": [
      "13563\n"
     ]
    }
   ],
   "source": [
    "# MLP code from last project\n",
    "n_embd = 10\n",
    "n_hidden = 200\n",
    "\n",
    "g = torch.Generator().manual_seed(2147483647)\n",
    "C = torch.randn((vocab_size, n_embd), generator=g)\n",
    "W1 = torch.randn((n_embd * block_size, n_hidden), generator=g) * (5/3) / ((n_embd * block_size)**0.5) #Kaiming initialization\n",
    "b1 = torch.randn(n_hidden, generator=g) * 0.01 # b1 is small at initialization\n",
    "W2 = torch.randn((n_hidden, vocab_size), generator=g) * 0.01 # W2 is small at initialization\n",
    "b2 = torch.randn(vocab_size, generator=g) * 0 # b2 is zero at initialization\n",
    "\n",
    "bngain = torch.ones((1, n_hidden))\n",
    "bnbias = torch.zeros((1, n_hidden))\n",
    "bnmean_running = torch.zeros((1, n_hidden))\n",
    "bnstd_running = torch.ones((1, n_hidden))\n",
    "\n",
    "parameters = [C, W1, b1, W2, b2, bngain, bnbias]\n",
    "print(sum(p.nelement() for p in parameters))\n",
    "for p in parameters:\n",
    "    p.requires_grad_()"
   ]
  },
  {
   "cell_type": "code",
   "execution_count": 32,
   "metadata": {},
   "outputs": [
    {
     "name": "stdout",
     "output_type": "stream",
     "text": [
      "      0/ 200000: 3.4966\n",
      "   1000/ 200000: 2.2863\n",
      "   2000/ 200000: 2.1032\n",
      "   3000/ 200000: 2.2115\n",
      "   4000/ 200000: 2.3798\n",
      "   5000/ 200000: 2.4021\n",
      "   6000/ 200000: 2.2208\n",
      "   7000/ 200000: 2.5282\n",
      "   8000/ 200000: 2.3365\n",
      "   9000/ 200000: 2.6579\n",
      "  10000/ 200000: 2.2455\n",
      "  11000/ 200000: 2.2142\n",
      "  12000/ 200000: 2.0478\n",
      "  13000/ 200000: 1.8891\n",
      "  14000/ 200000: 2.3769\n",
      "  15000/ 200000: 2.4665\n",
      "  16000/ 200000: 2.4384\n",
      "  17000/ 200000: 2.3814\n",
      "  18000/ 200000: 2.0763\n",
      "  19000/ 200000: 2.1609\n",
      "  20000/ 200000: 2.1901\n",
      "  21000/ 200000: 2.1840\n",
      "  22000/ 200000: 2.1454\n",
      "  23000/ 200000: 2.1840\n",
      "  24000/ 200000: 1.9814\n",
      "  25000/ 200000: 2.0532\n",
      "  26000/ 200000: 1.7022\n",
      "  27000/ 200000: 2.0667\n",
      "  28000/ 200000: 2.3880\n",
      "  29000/ 200000: 2.0548\n",
      "  30000/ 200000: 2.5400\n",
      "  31000/ 200000: 2.2356\n",
      "  32000/ 200000: 1.8880\n",
      "  33000/ 200000: 2.2501\n",
      "  34000/ 200000: 2.4753\n",
      "  35000/ 200000: 2.4593\n",
      "  36000/ 200000: 2.0303\n",
      "  37000/ 200000: 2.3009\n",
      "  38000/ 200000: 2.5813\n",
      "  39000/ 200000: 2.1002\n",
      "  40000/ 200000: 2.2897\n",
      "  41000/ 200000: 2.5326\n",
      "  42000/ 200000: 2.4399\n",
      "  43000/ 200000: 2.0192\n",
      "  44000/ 200000: 1.9557\n",
      "  45000/ 200000: 1.9538\n",
      "  46000/ 200000: 1.7857\n",
      "  47000/ 200000: 1.9380\n",
      "  48000/ 200000: 2.1732\n",
      "  49000/ 200000: 2.9752\n",
      "  50000/ 200000: 1.9246\n",
      "  51000/ 200000: 2.4242\n",
      "  52000/ 200000: 2.3387\n",
      "  53000/ 200000: 2.2916\n",
      "  54000/ 200000: 2.1078\n",
      "  55000/ 200000: 1.9696\n",
      "  56000/ 200000: 2.6088\n",
      "  57000/ 200000: 2.2419\n",
      "  58000/ 200000: 2.1258\n",
      "  59000/ 200000: 2.3550\n",
      "  60000/ 200000: 1.7894\n",
      "  61000/ 200000: 2.1914\n",
      "  62000/ 200000: 2.0660\n",
      "  63000/ 200000: 2.4631\n",
      "  64000/ 200000: 1.9786\n",
      "  65000/ 200000: 2.2005\n",
      "  66000/ 200000: 2.1727\n",
      "  67000/ 200000: 2.4264\n",
      "  68000/ 200000: 2.3820\n",
      "  69000/ 200000: 2.1373\n",
      "  70000/ 200000: 2.0926\n",
      "  71000/ 200000: 2.2696\n",
      "  72000/ 200000: 2.2212\n",
      "  73000/ 200000: 2.2585\n",
      "  74000/ 200000: 2.2558\n",
      "  75000/ 200000: 2.2214\n",
      "  76000/ 200000: 2.4234\n",
      "  77000/ 200000: 2.0986\n",
      "  78000/ 200000: 2.0976\n",
      "  79000/ 200000: 2.0440\n",
      "  80000/ 200000: 2.3315\n",
      "  81000/ 200000: 1.9273\n",
      "  82000/ 200000: 2.1293\n",
      "  83000/ 200000: 2.2657\n",
      "  84000/ 200000: 2.0914\n",
      "  85000/ 200000: 2.2097\n",
      "  86000/ 200000: 2.1403\n",
      "  87000/ 200000: 2.4267\n",
      "  88000/ 200000: 2.2218\n",
      "  89000/ 200000: 2.1804\n",
      "  90000/ 200000: 2.1520\n",
      "  91000/ 200000: 1.9937\n",
      "  92000/ 200000: 2.3959\n",
      "  93000/ 200000: 2.0471\n",
      "  94000/ 200000: 2.3120\n",
      "  95000/ 200000: 2.0652\n",
      "  96000/ 200000: 2.3956\n",
      "  97000/ 200000: 2.3575\n",
      "  98000/ 200000: 2.0173\n",
      "  99000/ 200000: 1.9304\n",
      " 100000/ 200000: 1.9739\n",
      " 101000/ 200000: 2.0562\n",
      " 102000/ 200000: 2.6737\n",
      " 103000/ 200000: 2.1029\n",
      " 104000/ 200000: 1.9897\n",
      " 105000/ 200000: 1.9849\n",
      " 106000/ 200000: 2.0817\n",
      " 107000/ 200000: 2.1174\n",
      " 108000/ 200000: 1.9559\n",
      " 109000/ 200000: 1.9418\n",
      " 110000/ 200000: 1.9715\n",
      " 111000/ 200000: 2.1396\n",
      " 112000/ 200000: 2.2161\n",
      " 113000/ 200000: 2.2157\n",
      " 114000/ 200000: 2.4265\n",
      " 115000/ 200000: 2.0715\n",
      " 116000/ 200000: 2.0193\n",
      " 117000/ 200000: 2.1920\n",
      " 118000/ 200000: 2.3146\n",
      " 119000/ 200000: 2.0526\n",
      " 120000/ 200000: 1.8334\n",
      " 121000/ 200000: 2.1956\n",
      " 122000/ 200000: 2.4273\n",
      " 123000/ 200000: 2.1664\n",
      " 124000/ 200000: 2.0282\n",
      " 125000/ 200000: 2.1623\n",
      " 126000/ 200000: 2.1071\n",
      " 127000/ 200000: 2.3474\n",
      " 128000/ 200000: 1.9327\n",
      " 129000/ 200000: 1.9294\n",
      " 130000/ 200000: 1.9564\n",
      " 131000/ 200000: 2.2042\n",
      " 132000/ 200000: 2.1461\n",
      " 133000/ 200000: 1.4812\n",
      " 134000/ 200000: 1.9915\n",
      " 135000/ 200000: 1.9190\n",
      " 136000/ 200000: 2.2307\n",
      " 137000/ 200000: 1.8391\n",
      " 138000/ 200000: 1.8796\n",
      " 139000/ 200000: 2.3142\n",
      " 140000/ 200000: 1.9686\n",
      " 141000/ 200000: 1.9657\n",
      " 142000/ 200000: 1.8966\n",
      " 143000/ 200000: 2.1277\n",
      " 144000/ 200000: 2.0905\n",
      " 145000/ 200000: 1.8412\n",
      " 146000/ 200000: 1.7713\n",
      " 147000/ 200000: 2.3475\n",
      " 148000/ 200000: 2.1180\n",
      " 149000/ 200000: 1.8917\n",
      " 150000/ 200000: 1.9211\n",
      " 151000/ 200000: 2.2691\n",
      " 152000/ 200000: 2.1068\n",
      " 153000/ 200000: 2.2303\n",
      " 154000/ 200000: 2.0424\n",
      " 155000/ 200000: 2.1031\n",
      " 156000/ 200000: 2.2974\n",
      " 157000/ 200000: 2.2057\n",
      " 158000/ 200000: 2.3978\n",
      " 159000/ 200000: 2.0927\n",
      " 160000/ 200000: 1.9923\n",
      " 161000/ 200000: 2.2157\n",
      " 162000/ 200000: 2.4586\n",
      " 163000/ 200000: 2.0316\n",
      " 164000/ 200000: 2.1828\n",
      " 165000/ 200000: 2.1751\n",
      " 166000/ 200000: 2.2522\n",
      " 167000/ 200000: 2.0638\n",
      " 168000/ 200000: 2.0564\n",
      " 169000/ 200000: 2.2240\n",
      " 170000/ 200000: 2.2256\n",
      " 171000/ 200000: 1.9433\n",
      " 172000/ 200000: 2.0657\n",
      " 173000/ 200000: 2.1863\n",
      " 174000/ 200000: 2.4036\n",
      " 175000/ 200000: 2.3484\n",
      " 176000/ 200000: 2.6974\n",
      " 177000/ 200000: 2.3589\n",
      " 178000/ 200000: 1.9792\n",
      " 179000/ 200000: 1.9758\n",
      " 180000/ 200000: 1.8804\n",
      " 181000/ 200000: 1.9288\n",
      " 182000/ 200000: 2.2468\n",
      " 183000/ 200000: 1.8707\n",
      " 184000/ 200000: 1.9024\n",
      " 185000/ 200000: 2.1285\n",
      " 186000/ 200000: 1.8489\n",
      " 187000/ 200000: 2.1581\n",
      " 188000/ 200000: 1.9876\n",
      " 189000/ 200000: 2.3455\n",
      " 190000/ 200000: 2.5364\n",
      " 191000/ 200000: 1.9956\n",
      " 192000/ 200000: 2.2927\n",
      " 193000/ 200000: 2.2897\n",
      " 194000/ 200000: 2.0005\n",
      " 195000/ 200000: 2.1018\n",
      " 196000/ 200000: 2.5356\n",
      " 197000/ 200000: 2.1851\n",
      " 198000/ 200000: 2.3101\n",
      " 199000/ 200000: 2.2022\n"
     ]
    }
   ],
   "source": [
    "# training loop\n",
    "max_steps = 200000\n",
    "batch_size = 32\n",
    "lossi = []\n",
    "\n",
    "for i in range(max_steps):\n",
    "    # create minibatch\n",
    "    ix = torch.randint(0, Xtrain.shape[0], (batch_size, ), generator=g)\n",
    "    Xb, Yb = Xtrain[ix], Ytrain[ix]\n",
    "\n",
    "    # forward pass\n",
    "    emb = C[Xb]\n",
    "    embcat = emb.view(emb.shape[0], -1)\n",
    "    hpreact = embcat @ W1 + b1\n",
    "    bnmeani = hpreact.mean(dim=0, keepdim=True)\n",
    "    bnstdi = hpreact.std(dim=0, keepdim=True)\n",
    "    hpreact = bngain * (hpreact - bnmeani) / (bnstdi) + bnbias # batch normalization\n",
    "\n",
    "    with torch.no_grad():\n",
    "        bnmean_running = 0.999 * bnmean_running + 0.001 * bnmeani\n",
    "        bnstd_running = 0.999 * bnstd_running + 0.001 * bnstdi\n",
    "\n",
    "    h = torch.tanh(hpreact)\n",
    "    logits = h @ W2 + b2\n",
    "    loss = F.cross_entropy(logits, Yb)\n",
    "\n",
    "    # backward pass\n",
    "    for p in parameters:\n",
    "        p.grad = None\n",
    "    loss.backward()\n",
    "\n",
    "    # update weights\n",
    "    lr = 0.1 if i < 100000 else 0.01\n",
    "    for p in parameters:\n",
    "        p.data -= lr * p.grad\n",
    "\n",
    "    # track stats\n",
    "    if i % 1000 == 0:\n",
    "        lossi.append(loss.item())\n",
    "        print(f\"{i:7d}/{max_steps:7d}: {loss.item():.4f}\")"
   ]
  },
  {
   "cell_type": "code",
   "execution_count": 26,
   "metadata": {},
   "outputs": [
    {
     "data": {
      "text/plain": [
       "[<matplotlib.lines.Line2D at 0x741801d39810>]"
      ]
     },
     "execution_count": 26,
     "metadata": {},
     "output_type": "execute_result"
    },
    {
     "data": {
      "image/png": "[encoded data removed]",
      "text/plain": [
       "<Figure size 640x480 with 1 Axes>"
      ]
     },
     "metadata": {},
     "output_type": "display_data"
    }
   ],
   "source": [
    "plt.plot(lossi)"
   ]
  },
  {
   "cell_type": "code",
   "execution_count": 27,
   "metadata": {},
   "outputs": [],
   "source": [
    "# I already implemented it in straining stage using running mean and std\n",
    "\n",
    "# # calibrating batch normalization after training loop\n",
    "\n",
    "# with torch.no_grad():\n",
    "#     emb = C[Xtrain]\n",
    "#     embcat = emb.view(emb.shape[0], -1)\n",
    "#     hpreact = embcat @ W1 + b1\n",
    "#     # measure mean and std over entire training set\n",
    "#     bnmean = hpreact.mean(dim=0, keepdim=True)\n",
    "#     bnstd = hpreact.std(dim=0, keepdim=True)"
   ]
  },
  {
   "cell_type": "code",
   "execution_count": 33,
   "metadata": {},
   "outputs": [
    {
     "name": "stdout",
     "output_type": "stream",
     "text": [
      "train 2.075850009918213\n",
      "dev 2.117523431777954\n"
     ]
    }
   ],
   "source": [
    "@torch.no_grad() # this decorator disables gradient tracking\n",
    "def split_loss(split):\n",
    "    x, y = {\n",
    "        'train': (Xtrain, Ytrain),\n",
    "        'dev': (Xdev, Ydev),\n",
    "        'test': (Xtest, Ytest)\n",
    "    }[split]\n",
    "    emb = C[x]\n",
    "    embcat = emb.view(emb.shape[0], -1)\n",
    "    hpreact = embcat @ W1 + b1\n",
    "    hpreact = bngain * ((hpreact - bnmean_running) / bnstd_running) + bnbias # batch normalization\n",
    "    h = torch.tanh(hpreact)\n",
    "    logits = h @ W2 + b2\n",
    "    loss = F.cross_entropy(logits, y)\n",
    "    print(split, loss.item())\n",
    "\n",
    "split_loss('train')\n",
    "split_loss('dev')"
   ]
  },
  {
   "cell_type": "code",
   "execution_count": 35,
   "metadata": {},
   "outputs": [
    {
     "name": "stdout",
     "output_type": "stream",
     "text": [
      "junide\n",
      "jakarie\n",
      "presay\n",
      "adria\n",
      "jirrito\n",
      "sabe\n",
      "ter\n",
      "kalinaa\n",
      "zamilena\n",
      "jededailewintlessia\n",
      "evy\n",
      "arterinvellerin\n",
      "demmerickysie\n",
      "hesandreora\n",
      "yarion\n",
      "kaelandreed\n",
      "mikimbynin\n",
      "anaasnessiah\n",
      "mazah\n",
      "dion\n"
     ]
    }
   ],
   "source": [
    "# sample from the model\n",
    "g = torch.Generator().manual_seed(2147483647)\n",
    "\n",
    "for _ in range(20):\n",
    "    out = []\n",
    "    context = [0] * block_size\n",
    "    while True:\n",
    "        emb = C[torch.tensor([context])]\n",
    "        embcat = emb.view(emb.shape[0], -1)\n",
    "        hpreact = embcat @ W1 + b1\n",
    "        hpreact = bngain * ((hpreact - bnmean_running) / bnstd_running) + bnbias # batch normalization\n",
    "        h = torch.tanh(hpreact)\n",
    "        logits = h @ W2 + b2\n",
    "        probs = F.softmax(logits, dim=1)\n",
    "        ix = torch.multinomial(probs, num_samples=1, generator=g).item()\n",
    "        context = context[1:] + [ix]\n",
    "        out.append(ix)\n",
    "        if ix == 0:\n",
    "            break\n",
    "    print(''.join(itos[i] for i in out[:-1]))"
   ]
  },
  {
   "cell_type": "code",
   "execution_count": null,
   "metadata": {},
   "outputs": [],
   "source": []
  }
 ],
 "metadata": {
  "kernelspec": {
   "display_name": "rnn-language-model-py3.10",
   "language": "python",
   "name": "rnn-language-model-py3.10"
  },
  "language_info": {
   "codemirror_mode": {
    "name": "ipython",
    "version": 3
   },
   "file_extension": ".py",
   "mimetype": "text/x-python",
   "name": "python",
   "nbconvert_exporter": "python",
   "pygments_lexer": "ipython3",
   "version": "3.10.12"
  }
 },
 "nbformat": 4,
 "nbformat_minor": 2
}
